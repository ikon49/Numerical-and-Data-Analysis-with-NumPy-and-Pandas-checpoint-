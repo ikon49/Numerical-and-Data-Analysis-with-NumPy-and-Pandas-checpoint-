{
 "cells": [
  {
   "cell_type": "code",
   "execution_count": 1,
   "id": "bf1b7f84-44a5-4d8b-acab-06069e295202",
   "metadata": {},
   "outputs": [
    {
     "name": "stdin",
     "output_type": "stream",
     "text": [
      "Enter the number of students:  5\n",
      "Enter the number of subjects:  5\n",
      "Enter the marks for student 1 in subject 1:  67\n",
      "Enter the marks for student 1 in subject 2:  98\n",
      "Enter the marks for student 1 in subject 3:  45\n",
      "Enter the marks for student 1 in subject 4:  54\n",
      "Enter the marks for student 1 in subject 5:  64\n",
      "Enter the marks for student 2 in subject 1:  45\n",
      "Enter the marks for student 2 in subject 2:  39\n",
      "Enter the marks for student 2 in subject 3:  83\n",
      "Enter the marks for student 2 in subject 4:  63\n",
      "Enter the marks for student 2 in subject 5:  49\n",
      "Enter the marks for student 3 in subject 1:  65\n",
      "Enter the marks for student 3 in subject 2:  43\n",
      "Enter the marks for student 3 in subject 3:  54\n",
      "Enter the marks for student 3 in subject 4:  86\n",
      "Enter the marks for student 3 in subject 5:  78\n",
      "Enter the marks for student 4 in subject 1:  37\n",
      "Enter the marks for student 4 in subject 2:  67\n",
      "Enter the marks for student 4 in subject 3:  76\n",
      "Enter the marks for student 4 in subject 4:  89\n",
      "Enter the marks for student 4 in subject 5:  52\n",
      "Enter the marks for student 5 in subject 1:  61\n",
      "Enter the marks for student 5 in subject 2:  87\n",
      "Enter the marks for student 5 in subject 3:  39\n",
      "Enter the marks for student 5 in subject 4:  52\n",
      "Enter the marks for student 5 in subject 5:  63\n"
     ]
    },
    {
     "name": "stdout",
     "output_type": "stream",
     "text": [
      "\n",
      "Results:\n",
      "Student    Total Marks  Percentage   Grade \n",
      "1          328.00       65.60        B     \n",
      "2          279.00       55.80        C     \n",
      "3          326.00       65.20        B     \n",
      "4          321.00       64.20        B     \n",
      "5          302.00       60.40        B     \n"
     ]
    }
   ],
   "source": [
    "import numpy as np\n",
    "\n",
    "# Function to calculate grade based on percentage\n",
    "def calculate_grade(percentage):\n",
    "    if percentage >= 90:\n",
    "        return 'A+'\n",
    "    elif percentage >= 80:\n",
    "        return 'A'\n",
    "    elif percentage >= 70:\n",
    "        return 'B+'\n",
    "    elif percentage >= 60:\n",
    "        return 'B'\n",
    "    elif percentage >= 50:\n",
    "        return 'C'\n",
    "    else:\n",
    "        return 'F'\n",
    "\n",
    "# Main function to get input and calculate results\n",
    "def main():\n",
    "    # Get number of students and subjects\n",
    "    num_students = int(input(\"Enter the number of students: \"))\n",
    "    num_subjects = int(input(\"Enter the number of subjects: \"))\n",
    "    \n",
    "    # Create array to store marks\n",
    "    marks = np.zeros((num_students, num_subjects))\n",
    "    \n",
    "    # Get marks for each student in each subject\n",
    "    for i in range(num_students):\n",
    "        for j in range(num_subjects):\n",
    "            marks[i, j] = float(input(f\"Enter the marks for student {i+1} in subject {j+1}: \"))\n",
    "    \n",
    "    # Calculate total marks and percentage for each student\n",
    "    total_marks = marks.sum(axis=1)\n",
    "    percentages = (total_marks / (num_subjects * 100)) * 100\n",
    "    \n",
    "    # Calculate grades\n",
    "    grades = np.array([calculate_grade(p) for p in percentages])\n",
    "    \n",
    "    # Display results in tabular format\n",
    "    print(\"\\nResults:\")\n",
    "    print(f\"{'Student':<10} {'Total Marks':<12} {'Percentage':<12} {'Grade':<6}\")\n",
    "    for i in range(num_students):\n",
    "        print(f\"{i+1:<10} {total_marks[i]:<12.2f} {percentages[i]:<12.2f} {grades[i]:<6}\")\n",
    "\n",
    "if __name__ == \"__main__\":\n",
    "    main()\n"
   ]
  }
 ],
 "metadata": {
  "kernelspec": {
   "display_name": "Python 3 (ipykernel)",
   "language": "python",
   "name": "python3"
  },
  "language_info": {
   "codemirror_mode": {
    "name": "ipython",
    "version": 3
   },
   "file_extension": ".py",
   "mimetype": "text/x-python",
   "name": "python",
   "nbconvert_exporter": "python",
   "pygments_lexer": "ipython3",
   "version": "3.11.7"
  }
 },
 "nbformat": 4,
 "nbformat_minor": 5
}
